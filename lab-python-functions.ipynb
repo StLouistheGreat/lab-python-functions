{
 "cells": [
  {
   "cell_type": "markdown",
   "id": "0c581062-8967-4d93-b06e-62833222f930",
   "metadata": {
    "tags": []
   },
   "source": [
    "## Exercise: Managing Customer Orders with Functions\n",
    "\n",
    "In the previous exercise, you improved the code for managing customer orders by using loops and flow control. Now, let's take it a step further and refactor the code by introducing functions.\n",
    "\n",
    "Follow the steps below to complete the exercise:\n",
    "\n",
    "1. Define a function named `initialize_inventory` that takes `products` as a parameter. Inside the function, implement the code for initializing the inventory dictionary using a loop and user input.\n",
    "\n",
    "2. Define a function named `get_customer_orders` that takes no parameters. Inside the function, implement the code for prompting the user to enter the product names using a loop. The function should return the `customer_orders` set.\n",
    "\n",
    "3. Define a function named `update_inventory` that takes `customer_orders` and `inventory` as parameters. Inside the function, implement the code for updating the inventory dictionary based on the customer orders.\n",
    "\n",
    "4. Define a function named `calculate_order_statistics` that takes `customer_orders` and `products` as parameters. Inside the function, implement the code for calculating the order statistics (total products ordered, and percentage of unique products ordered). The function should return these values.\n",
    "\n",
    "5. Define a function named `print_order_statistics` that takes `order_statistics` as a parameter. Inside the function, implement the code for printing the order statistics.\n",
    "\n",
    "6. Define a function named `print_updated_inventory` that takes `inventory` as a parameter. Inside the function, implement the code for printing the updated inventory.\n",
    "\n",
    "7. Call the functions in the appropriate sequence to execute the program and manage customer orders.\n",
    "\n",
    "Hints for functions:\n",
    "\n",
    "- Consider the input parameters required for each function and their return values.\n",
    "- Utilize function parameters and return values to transfer data between functions.\n",
    "- Test your functions individually to ensure they work correctly.\n",
    "\n",
    "\n"
   ]
  },
  {
   "cell_type": "code",
   "execution_count": 33,
   "id": "bd926b53-dd1a-467f-8547-495709b1dea6",
   "metadata": {
    "tags": []
   },
   "outputs": [
    {
     "name": "stdin",
     "output_type": "stream",
     "text": [
      "Enter the number of t-shirts in inventory:  5\n",
      "Enter the number of mugs in inventory:  5\n",
      "Enter the number of hats in inventory:  55\n",
      "Enter the number of books in inventory:  5\n",
      "Enter the number of keychains in inventory:  5\n"
     ]
    },
    {
     "name": "stdout",
     "output_type": "stream",
     "text": [
      "{'t-shirts': 5, 'mugs': 5, 'hats': 55, 'books': 5, 'keychains': 5}\n"
     ]
    },
    {
     "name": "stdin",
     "output_type": "stream",
     "text": [
      "Would you like to add the name of a product? 5\n"
     ]
    },
    {
     "name": "stdout",
     "output_type": "stream",
     "text": [
      "\n",
      "Order statistics:\n",
      "Total Products Ordered: 0\n",
      "Percentage of Product Ordered: 0.0%\n",
      "\n",
      "t-shirts has 5 left in stock\n",
      "mugs has 5 left in stock\n",
      "hats has 55 left in stock\n",
      "books has 5 left in stock\n",
      "keychains has 5 left in stock\n"
     ]
    }
   ],
   "source": [
    "##### SOLUTION\n",
    "def initialize_inventory(products):\n",
    "    prod_count = []\n",
    "    for product in products:\n",
    "        while True:\n",
    "            try:\n",
    "                user_input = int(input(f'Enter the number of {product} in inventory: '))\n",
    "                prod_count.append(user_input)\n",
    "                break\n",
    "            except ValueError:\n",
    "                print('Please put in a whole number')\n",
    "    return dict(zip(products, prod_count))\n",
    "\n",
    "def get_customer_orders():\n",
    "    customer_orders = set()\n",
    "    for product in products:\n",
    "        Ask = input('Would you like to add the name of a product?')\n",
    "        if Ask.lower() == 'yes':\n",
    "            set_input = input('Please enter the name of the product the customer wants to buy: ')\n",
    "            if set_input in products:\n",
    "                customer_orders.add(set_input)\n",
    "        else:\n",
    "            break\n",
    "    return customer_orders\n",
    "\n",
    "def update_inventory(customer_orders, inventory):\n",
    "    for order in customer_orders:\n",
    "        if order in inventory:\n",
    "            inventory[order] -= 1\n",
    "\n",
    "def calculate_order_statistics(customer_orders, products):\n",
    "    total_ordered = len(customer_orders)\n",
    "    percentage_ordered = total_ordered / sum(inventory.values()) * 100\n",
    "    return total_ordered, percentage_ordered\n",
    "\n",
    "def print_order_statistics(order_statistics):\n",
    "    total_ordered, percentage_ordered = order_statistics\n",
    "    print(f'Order statistics:\\nTotal Products Ordered: {total_ordered}\\nPercentage of Product Ordered: {percentage_ordered}%')\n",
    "\n",
    "def print_updated_inventory(inventory):\n",
    "    for key, value in inventory.items():\n",
    "        print(f'{key} has {value} left in stock')\n",
    "\n",
    "# Main program\n",
    "products = ['t-shirts', 'mugs', 'hats', 'books', 'keychains']\n",
    "inventory = initialize_inventory(products)\n",
    "print(inventory)\n",
    "\n",
    "customer_orders = get_customer_orders()\n",
    "print()\n",
    "\n",
    "update_inventory(customer_orders, inventory)\n",
    "order_statistics = calculate_order_statistics(customer_orders, products)\n",
    "\n",
    "print_order_statistics(order_statistics)\n",
    "print()\n",
    "\n",
    "print_updated_inventory(inventory)"
   ]
  },
  {
   "cell_type": "code",
   "execution_count": null,
   "id": "65e00c89-685e-4678-b578-21cf140124d9",
   "metadata": {},
   "outputs": [],
   "source": []
  }
 ],
 "metadata": {
  "kernelspec": {
   "display_name": "Python 3 (ipykernel)",
   "language": "python",
   "name": "python3"
  },
  "language_info": {
   "codemirror_mode": {
    "name": "ipython",
    "version": 3
   },
   "file_extension": ".py",
   "mimetype": "text/x-python",
   "name": "python",
   "nbconvert_exporter": "python",
   "pygments_lexer": "ipython3",
   "version": "3.11.7"
  }
 },
 "nbformat": 4,
 "nbformat_minor": 5
}
